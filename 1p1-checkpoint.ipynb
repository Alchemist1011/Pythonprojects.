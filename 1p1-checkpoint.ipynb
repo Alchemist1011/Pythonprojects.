{
 "cells": [
  {
   "cell_type": "code",
   "execution_count": 5,
   "metadata": {},
   "outputs": [
    {
     "name": "stdout",
     "output_type": "stream",
     "text": [
      "this is the value of z 12\n"
     ]
    }
   ],
   "source": [
    "#string formatting\n",
    "z=12\n",
    "print('this is the value of z',z)"
   ]
  },
  {
   "cell_type": "code",
   "execution_count": 9,
   "metadata": {},
   "outputs": [
    {
     "name": "stdout",
     "output_type": "stream",
     "text": [
      "value of q is  22\n"
     ]
    }
   ],
   "source": [
    "q=22\n",
    "print('value of q is ',q)"
   ]
  },
  {
   "cell_type": "code",
   "execution_count": 11,
   "metadata": {},
   "outputs": [
    {
     "name": "stdout",
     "output_type": "stream",
     "text": [
      "t is equal to - 24\n"
     ]
    }
   ],
   "source": [
    "t=24\n",
    "print('t is equal to ',t)"
   ]
  },
  {
   "cell_type": "code",
   "execution_count": 13,
   "metadata": {},
   "outputs": [
    {
     "name": "stdout",
     "output_type": "stream",
     "text": [
      "value of pi is approx. 3.14\n"
     ]
    }
   ],
   "source": [
    "pi=3.14\n",
    "print('value of pi is approx.',pi)"
   ]
  },
  {
   "cell_type": "code",
   "execution_count": 14,
   "metadata": {},
   "outputs": [
    {
     "name": "stdout",
     "output_type": "stream",
     "text": [
      "value of e is 2.718\n"
     ]
    }
   ],
   "source": [
    "e=2.718\n",
    "print('value of e is',e)"
   ]
  },
  {
   "cell_type": "code",
   "execution_count": 22,
   "metadata": {},
   "outputs": [
    {
     "name": "stdout",
     "output_type": "stream",
     "text": [
      "the value of a 12\n",
      "the value of b 16\n",
      "28\n"
     ]
    }
   ],
   "source": [
    "#input\n",
    "a=int(input('the value of a '))\n",
    "b=int(input('the value of b '))\n",
    "c=print(a+b)"
   ]
  },
  {
   "cell_type": "code",
   "execution_count": 31,
   "metadata": {},
   "outputs": [
    {
     "name": "stdout",
     "output_type": "stream",
     "text": [
      "o is equal to  o35\n",
      "p is eqaul to  p32\n",
      "t is eqaul to  t11\n",
      "78\n"
     ]
    }
   ],
   "source": [
    "o=input('o is equal to  o')\n",
    "p=input('p is eqaul to  p')\n",
    "t=input('t is eqaul to  t')\n",
    "s=print(int(o) +int(p) +int(t))"
   ]
  },
  {
   "cell_type": "code",
   "execution_count": 42,
   "metadata": {},
   "outputs": [
    {
     "name": "stdout",
     "output_type": "stream",
     "text": [
      "value of s 23\n",
      "value of c 46\n",
      "69\n"
     ]
    }
   ],
   "source": [
    "#input\n",
    "z=input('value of s ')\n",
    "x=input('value of c ')\n",
    "print(int(z)+int(x))"
   ]
  },
  {
   "cell_type": "code",
   "execution_count": 50,
   "metadata": {},
   "outputs": [
    {
     "name": "stdout",
     "output_type": "stream",
     "text": [
      "For true it is 1 45\n",
      "for false it is 0 32\n",
      "77\n"
     ]
    }
   ],
   "source": [
    "#input\n",
    "z=input('For true it is 1 ')\n",
    "x=input('for false it is 0 ')\n",
    "print(int(z)+int(x))"
   ]
  },
  {
   "cell_type": "code",
   "execution_count": 62,
   "metadata": {},
   "outputs": [
    {
     "name": "stdout",
     "output_type": "stream",
     "text": [
      "value of z is 23 11\n",
      "45\n"
     ]
    }
   ],
   "source": [
    "#input\n",
    "input('value of z is 23 ')\n",
    "print(z)"
   ]
  },
  {
   "cell_type": "code",
   "execution_count": 66,
   "metadata": {},
   "outputs": [
    {
     "name": "stdout",
     "output_type": "stream",
     "text": [
      "Karachi is sindh and Punjab is lahore\n"
     ]
    }
   ],
   "source": [
    "#formatting\n",
    "Karachi=\"sindh\"\n",
    "Punjab=\"lahore\"\n",
    "print('Karachi is {0} and Punjab is {1}'.format('sindh','lahore'))"
   ]
  },
  {
   "cell_type": "code",
   "execution_count": 74,
   "metadata": {},
   "outputs": [
    {
     "name": "stdout",
     "output_type": "stream",
     "text": [
      "first_name is Usman and second_name is Zahoor\n"
     ]
    }
   ],
   "source": [
    "first_name=\"Usman\"\n",
    "second_name=\"Zahoor\"\n",
    "print('first_name is {0} and second_name is {1}'.format('Usman','Zahoor'))"
   ]
  },
  {
   "cell_type": "code",
   "execution_count": 82,
   "metadata": {},
   "outputs": [
    {
     "name": "stdout",
     "output_type": "stream",
     "text": [
      "Elon musk invented EV and  Nikola T invented Electricity.\n"
     ]
    }
   ],
   "source": [
    "Elonmusk=(' EV' )\n",
    "NikolaT=(' Electricity')\n",
    "print('Elon musk invented {0} and  Nikola T invented {1}'.format('EV','Electricity.'))"
   ]
  },
  {
   "cell_type": "code",
   "execution_count": 86,
   "metadata": {},
   "outputs": [
    {
     "name": "stdout",
     "output_type": "stream",
     "text": [
      "the first number is88\n",
      "the second number is32\n",
      "120\n"
     ]
    }
   ],
   "source": [
    "#input\n",
    "w=input('the first number is')\n",
    "e=input('the second number is')\n",
    "print(int(w)+int(e))"
   ]
  },
  {
   "cell_type": "code",
   "execution_count": 88,
   "metadata": {},
   "outputs": [],
   "source": [
    "#maths\n",
    "import math as m"
   ]
  },
  {
   "cell_type": "code",
   "execution_count": 90,
   "metadata": {},
   "outputs": [
    {
     "data": {
      "text/plain": [
       "5.0"
      ]
     },
     "execution_count": 90,
     "metadata": {},
     "output_type": "execute_result"
    }
   ],
   "source": [
    "m.sqrt(25)"
   ]
  },
  {
   "cell_type": "code",
   "execution_count": 94,
   "metadata": {},
   "outputs": [
    {
     "data": {
      "text/plain": [
       "3125.0"
      ]
     },
     "execution_count": 94,
     "metadata": {},
     "output_type": "execute_result"
    }
   ],
   "source": [
    "m.pow(5,5)"
   ]
  },
  {
   "cell_type": "code",
   "execution_count": 95,
   "metadata": {},
   "outputs": [
    {
     "data": {
      "text/plain": [
       "0.9640275800758169"
      ]
     },
     "execution_count": 95,
     "metadata": {},
     "output_type": "execute_result"
    }
   ],
   "source": [
    "m.tanh(2)"
   ]
  },
  {
   "cell_type": "code",
   "execution_count": 96,
   "metadata": {},
   "outputs": [
    {
     "data": {
      "text/plain": [
       "2.718281828459045"
      ]
     },
     "execution_count": 96,
     "metadata": {},
     "output_type": "execute_result"
    }
   ],
   "source": [
    "m.e"
   ]
  },
  {
   "cell_type": "code",
   "execution_count": 97,
   "metadata": {},
   "outputs": [
    {
     "data": {
      "text/plain": [
       "3.141592653589793"
      ]
     },
     "execution_count": 97,
     "metadata": {},
     "output_type": "execute_result"
    }
   ],
   "source": [
    "m.pi"
   ]
  },
  {
   "cell_type": "code",
   "execution_count": 110,
   "metadata": {},
   "outputs": [
    {
     "data": {
      "text/plain": [
       "-2.185039863261519"
      ]
     },
     "execution_count": 110,
     "metadata": {},
     "output_type": "execute_result"
    }
   ],
   "source": []
  },
  {
   "cell_type": "code",
   "execution_count": null,
   "metadata": {},
   "outputs": [],
   "source": []
  }
 ],
 "metadata": {
  "kernelspec": {
   "display_name": "Python 3",
   "language": "python",
   "name": "python3"
  },
  "language_info": {
   "codemirror_mode": {
    "name": "ipython",
    "version": 3
   },
   "file_extension": ".py",
   "mimetype": "text/x-python",
   "name": "python",
   "nbconvert_exporter": "python",
   "pygments_lexer": "ipython3",
   "version": "3.8.5"
  }
 },
 "nbformat": 4,
 "nbformat_minor": 4
}
